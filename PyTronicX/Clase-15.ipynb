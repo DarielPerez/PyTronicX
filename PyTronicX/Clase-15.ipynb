{
 "cells": [
  {
   "cell_type": "code",
   "execution_count": null,
   "id": "2221971c",
   "metadata": {},
   "outputs": [],
   "source": [
    "import numpy as np\n",
    "import pandas as pd\n",
    "import matplotlib.pyplot as plt\n",
    "import pandas_datareader.data as web\n",
    "\n",
    "from datetime import date, datetime, time, timezone"
   ]
  },
  {
   "cell_type": "code",
   "execution_count": null,
   "id": "0c64ae10",
   "metadata": {},
   "outputs": [],
   "source": [
    "def get_stock_data(ticker, start, end):\n",
    "    data = web.DataReader (ticker, 'yahoo', start, end)\n",
    "    data.insert(0, \"Ticker\", ticker)\n",
    "    return data"
   ]
  },
  {
   "cell_type": "code",
   "execution_count": null,
   "id": "ea84fa51",
   "metadata": {},
   "outputs": [],
   "source": [
    "ticker = 'DIS'\n",
    "ini = datetime(2020,1,1)\n",
    "fin = datetime.today()\n",
    "d = get_stock_data(ticker, ini, fin)\n",
    "d.head()"
   ]
  },
  {
   "cell_type": "code",
   "execution_count": null,
   "id": "39ccf7f2",
   "metadata": {},
   "outputs": [],
   "source": [
    "d = d.pivot(index=None, columns=\"Ticker\", values=\"Close\")\n",
    "d.head()"
   ]
  },
  {
   "cell_type": "code",
   "execution_count": null,
   "id": "0fe70c79",
   "metadata": {},
   "outputs": [],
   "source": [
    "SPY = get_stock_data(\"SPY\",start, end)\n",
    "IYW = get_stock_data(\"IYW\", start, end)\n",
    "VT  = get_stock_data(\"VT\", start, end)\n",
    "DBA = get_stock_data(\"DBA\", start, end)\n",
    "TLT = get_stock_data(\"TLT\", start, end)\n",
    "PDBC= get_stock_data(\"PDBC\", start, end)\n",
    "IAU = get_stock_data(\"IAU\",start, end)"
   ]
  },
  {
   "cell_type": "code",
   "execution_count": null,
   "id": "89d9a653",
   "metadata": {},
   "outputs": [],
   "source": [
    "SPY.info()"
   ]
  },
  {
   "cell_type": "code",
   "execution_count": null,
   "id": "da492a42",
   "metadata": {},
   "outputs": [],
   "source": [
    "#Execute pivoting per data frame\n",
    "SPY-SPY.pivot(index=None, columns=\"Ticker\", values=\"Close\")\n",
    "IYW=IYW.pivot(index=None, columns=\"Ticker\", values=\"Close\")\n",
    "VT=VT.pivot(index=None, columns=\"Ticker\", values=\"Close\")\n",
    "DBA DBA.pivot (index=None, columns=\"Ticker\", values=\"Close\")\n",
    "TLT=TLT.pivot (index=None, columns=\"Ticker\", values=\"Close\")\n",
    "PDBC=PDBC.pivot (index=None, columns=\"Ticker\", values=\"Close\")\n",
    "IAU IAU.pivot (index=None, columns=\"Ticker\", values=\"Close\")"
   ]
  },
  {
   "cell_type": "code",
   "execution_count": null,
   "id": "76e29584",
   "metadata": {},
   "outputs": [],
   "source": []
  },
  {
   "cell_type": "code",
   "execution_count": null,
   "id": "aa2314c6",
   "metadata": {},
   "outputs": [],
   "source": []
  }
 ],
 "metadata": {
  "kernelspec": {
   "display_name": "Python 3 (ipykernel)",
   "language": "python",
   "name": "python3"
  },
  "language_info": {
   "codemirror_mode": {
    "name": "ipython",
    "version": 3
   },
   "file_extension": ".py",
   "mimetype": "text/x-python",
   "name": "python",
   "nbconvert_exporter": "python",
   "pygments_lexer": "ipython3",
   "version": "3.12.2"
  }
 },
 "nbformat": 4,
 "nbformat_minor": 5
}
